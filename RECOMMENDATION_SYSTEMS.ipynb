{
  "nbformat": 4,
  "nbformat_minor": 0,
  "metadata": {
    "colab": {
      "provenance": []
    },
    "kernelspec": {
      "name": "python3",
      "display_name": "Python 3"
    },
    "language_info": {
      "name": "python"
    }
  },
  "cells": [
    {
      "cell_type": "code",
      "execution_count": 2,
      "metadata": {
        "colab": {
          "base_uri": "https://localhost:8080/"
        },
        "id": "44PHL15eZScC",
        "outputId": "bc5cd7af-f357-4adf-b9eb-59e4e165ff6f"
      },
      "outputs": [
        {
          "output_type": "stream",
          "name": "stdout",
          "text": [
            "Please enter your preferences:\n",
            "Minimum rating desired (1.0 - 5.0): 3\n",
            "Preferred price range (1: low, 2: medium, 3: high, 4: very high): 2\n",
            "Do you prefer vegetarian options? (y/n): n\n",
            "\n",
            "Recommended restaurants for you:\n",
            "1. BBQ NATION\n",
            "2. SS HYDERABAD BRIYANI\n",
            "3. HARI BHAVANAM\n",
            "\n",
            "Would you like to get recommendations again? (yes/no): no\n",
            "Thank you for using the recommendation system!\n"
          ]
        }
      ],
      "source": [
        "import numpy as np\n",
        "from sklearn.metrics.pairwise import cosine_similarity\n",
        "restaurants = [\n",
        "    (1, \"ANNAPOORANA\", 4.5, 2, True),\n",
        "    (2, \"THALAPAKATTI\", 4.0, 3, False),\n",
        "    (3, \"AACHI MESS\", 4.2, 2, True),\n",
        "    (4, \"GREEN LEAF\", 4.3, 1, True),\n",
        "    (5, \"HOTEL JUNIOR KUPPANNA\", 4.7, 4, False),\n",
        "    (6, \"SS HYDERABAD BRIYANI\", 4.1, 3, True),\n",
        "    (7, \"THE PAVILION\", 4.4, 2, True),\n",
        "    (8, \"HARI BHAVANAM\", 4.6, 4, True),\n",
        "    (9, \"BBQ NATION\", 4.5, 3, True),\n",
        "    (10, \"HMR\", 4.2, 3, False)\n",
        "]\n",
        "restaurant_profiles = {}\n",
        "for restaurant_id, name, rating, price_range, vegetarian_options in restaurants:\n",
        "    restaurant_profiles[restaurant_id] = {\n",
        "        'name': name,\n",
        "        'rating': rating,\n",
        "        'price_range': price_range,\n",
        "        'vegetarian_options': vegetarian_options\n",
        "    }\n",
        "def rec_restaurants(user_preferences, num_recommendations=3):\n",
        "    user_profile = np.array([\n",
        "        user_preferences['rating'],\n",
        "        user_preferences['price_range'],\n",
        "        user_preferences['vegetarian_preference']\n",
        "    ]).reshape(1, -1)\n",
        "    similarities = []\n",
        "    for restaurant_id, profile in restaurant_profiles.items():\n",
        "        restaurant_profile = np.array([\n",
        "            profile['rating'],\n",
        "            profile['price_range'],\n",
        "            int(profile['vegetarian_options'] == user_preferences['vegetarian_preference'])\n",
        "        ]).reshape(1, -1)\n",
        "        similarity = cosine_similarity(user_profile, restaurant_profile)[0, 0]\n",
        "        similarities.append((restaurant_id, similarity))\n",
        "    similarities.sort(key=lambda x: x[1], reverse=True)\n",
        "\n",
        "\n",
        "    rec_restaurants = []\n",
        "    for restaurant_id, similarity in similarities[:num_recommendations]:\n",
        "        rec_restaurants.append(restaurant_profiles[restaurant_id]['name'])\n",
        "\n",
        "    return rec_restaurants\n",
        "\n",
        "def get_user_preferences():\n",
        "    print(\"Please enter your preferences:\")\n",
        "    rating = float(input(\"Minimum rating desired (1.0 - 5.0): \"))\n",
        "    price_range = int(input(\"Preferred price range (1: low, 2: medium, 3: high, 4: very high): \"))\n",
        "    vegetarian_preference = input(\"Do you prefer vegetarian options? (y/n): \").lower() == 'y'\n",
        "    return {\n",
        "        'rating': rating,\n",
        "        'price_range': price_range,\n",
        "        'vegetarian_preference': vegetarian_preference\n",
        "    }\n",
        "while True:\n",
        "    user_preferences = get_user_preferences()\n",
        "    recommended_restaurants = rec_restaurants(user_preferences)\n",
        "\n",
        "    print(\"\\nRecommended restaurants for you:\")\n",
        "    for idx, restaurant in enumerate(recommended_restaurants, start=1):\n",
        "        print(f\"{idx}. {restaurant}\")\n",
        "\n",
        "    choice = input(\"\\nWould you like to get recommendations again? (yes/no): \").lower()\n",
        "    if choice != 'yes':\n",
        "        print(\"Thank you for using the recommendation system!\")\n",
        "        break"
      ]
    }
  ]
}